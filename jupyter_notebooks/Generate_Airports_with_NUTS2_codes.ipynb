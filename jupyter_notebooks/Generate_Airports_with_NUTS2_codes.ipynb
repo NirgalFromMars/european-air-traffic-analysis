{
 "cells": [
  {
   "cell_type": "code",
   "execution_count": 11,
   "id": "91eeb21e-70a6-4015-8e49-6aaf5e54f507",
   "metadata": {},
   "outputs": [],
   "source": [
    "import geopandas as gpd\n",
    "import pandas as pd\n",
    "from shapely.geometry import Point\n",
    "\n",
    "# 1. Load NUTS2 shapefile (with CRS 4326)\n",
    "nuts2_gdf = gpd.read_file(\"shapefiles/NUTS_RG_10M_2024_4326.shp\")\n",
    "\n",
    "# 2. Load airports csv\n",
    "airports_df = pd.read_csv(\"airports_data/airports_dat.csv\")\n",
    "\n",
    "# 3. Create geometry of points from lat/lon\n",
    "airports_gdf = gpd.GeoDataFrame(\n",
    "    airports_df,\n",
    "    geometry=gpd.points_from_xy(airports_df['longitude'], airports_df['latitude']),\n",
    "    crs=\"EPSG:4326\"\n",
    ")\n",
    "\n",
    "# 4. Spacial cross: which point falls within which polygon\n",
    "airports_with_nuts2 = gpd.sjoin(airports_gdf, nuts2_gdf[['NUTS_ID', 'geometry']], how=\"left\", predicate=\"within\")\n",
    "\n",
    "# 5. Result: each airport with an assigned NUTS2 code (if applies)\n",
    "# Selecting some of the columns\n",
    "result = airports_with_nuts2[['airport_id', 'airport_name', 'country', 'latitude', 'longitude', 'NUTS_ID']]\n",
    "\n",
    "# 6. Export result to CSV\n",
    "result.to_csv(\"airports_with_nuts2.csv\", index=False)"
   ]
  },
  {
   "cell_type": "code",
   "execution_count": null,
   "id": "174252f6-8330-4696-989a-3c7ed4369b4b",
   "metadata": {},
   "outputs": [],
   "source": []
  }
 ],
 "metadata": {
  "kernelspec": {
   "display_name": "geo virtual env",
   "language": "python",
   "name": "geoenv"
  },
  "language_info": {
   "codemirror_mode": {
    "name": "ipython",
    "version": 3
   },
   "file_extension": ".py",
   "mimetype": "text/x-python",
   "name": "python",
   "nbconvert_exporter": "python",
   "pygments_lexer": "ipython3",
   "version": "3.12.7"
  }
 },
 "nbformat": 4,
 "nbformat_minor": 5
}
